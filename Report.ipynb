{
 "cells": [
  {
   "cell_type": "markdown",
   "metadata": {
    "collapsed": true
   },
   "source": [
    "# London Neighborhood for Expatriates\n",
    "\n",
    "### Coursera Applied Data Science Capstone"
   ]
  },
  {
   "cell_type": "markdown",
   "metadata": {},
   "source": [
    "### 1 Introduction\n",
    "\n",
    "This project aims to help expatriates decide which neighborhood to stay when they arrive in London.\n",
    "\n",
    "#### 1.1 Background\n",
    "\n",
    "London is a global city and one of the world’s largest financial centers. More than one-fifth of the United Kingdom’s biggest companies are based in Central London and this provides several job opportunities. The capital city also has a flourishing art scene. It is the world’s third largest film production center and one of four fashion capitals. As a cosmopolitan city, London has a diverse group of inhabitants and cultures. This makes it an attractive destination for expatriates. \n",
    "\n",
    "#### 1.2 Problem\n",
    "\n",
    "One of the most important yet stressful aspects of moving to another country is deciding on accommodation. It can be difficult to start looking for a house in a new country, especially when one has not been there before. This project thus aims to guide expatriates on where they can start looking for a suitable accommodation.\n",
    "\n",
    "#### 1.3 Interest\n",
    "\n",
    "This project will be of interest to young expatriates who are looking to move to London. They would typically like to live near areas of entertainment, but also be close to supermarkets and recreational sites."
   ]
  },
  {
   "cell_type": "markdown",
   "metadata": {},
   "source": [
    "### 2 Data\n",
    "\n",
    "The data used in this project were extracted from multiple sources. This includes the following:\n",
    "\n",
    "#### 2.1 Geographical Coordinates of London\n",
    "\n",
    "The geographical coordinates of each London borough were taken from https://en.wikipedia.org/wiki/List_of_London_boroughs. This was used to map the location of each borough and create a visual representation of how far each neighborhood was from the city centre.\n",
    "\n",
    "#### 2.2 Foursquare Data\n",
    "\n",
    "Foursquare was used to extract the most common venues in each neighborhood. The top 10 venues in each neighborhood were then compared. This will give an overview of the type of amenities one can expect to have when staying there. \n",
    "\n",
    "For example, the data could show an area with more hotels in the neighborhood. This might not be an ideal location for someone who wants to settle down in London. However, an area with more grocery stores and recreational sites could provide a better living environment. This would make it a more comfortable neighborhood to live in.\n",
    "\n",
    "#### 2.3 London Borough Profiles\n",
    "\n",
    "There are 33 boroughs in London and each borough has information on the crime rates per 1,000 population, median house prices, and average public transport accessibility score. The data was taken from the London Database (https://data.london.gov.uk/). Where the crime rates were unavailable on the London Database, they were taken from https://www.statista.com/statistics/380963/london-crime-rate/.\n",
    "\n",
    "The cost of a house is a primary consideration when house-hunting. Therefore, the median house price of each neighborhood would give a good indication of affordability. As the safety and accessibility of an area are also key factors in choosing a neighborhood, the information would help to narrow down an ideal area to live in. "
   ]
  },
  {
   "cell_type": "code",
   "execution_count": null,
   "metadata": {},
   "outputs": [],
   "source": []
  }
 ],
 "metadata": {
  "kernelspec": {
   "display_name": "Python 3.6",
   "language": "python",
   "name": "python3"
  },
  "language_info": {
   "codemirror_mode": {
    "name": "ipython",
    "version": 3
   },
   "file_extension": ".py",
   "mimetype": "text/x-python",
   "name": "python",
   "nbconvert_exporter": "python",
   "pygments_lexer": "ipython3",
   "version": "3.6.9"
  }
 },
 "nbformat": 4,
 "nbformat_minor": 1
}
